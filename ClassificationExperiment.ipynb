{
 "cells": [
  {
   "cell_type": "code",
   "execution_count": 1,
   "metadata": {
    "collapsed": true
   },
   "outputs": [],
   "source": [
    "import numpy as np\n",
    "import matplotlib.pyplot as plt\n",
    "from sklearn.linear_model import LinearRegression\n",
    "from sklearn.cross_validation import train_test_split\n",
    "from sklearn.datasets import load_svmlight_file\n",
    "from sklearn.metrics import roc_curve\n",
    "from sklearn.metrics import auc\n",
    "%matplotlib inline"
   ]
  },
  {
   "cell_type": "code",
   "execution_count": 2,
   "metadata": {
    "collapsed": true
   },
   "outputs": [],
   "source": [
    "# 读取数据\n",
    "x,y = load_svmlight_file(\"/Users/limuyi/Desktop/lab2.txt\")"
   ]
  },
  {
   "cell_type": "code",
   "execution_count": 3,
   "metadata": {
    "collapsed": false
   },
   "outputs": [
    {
     "name": "stdout",
     "output_type": "stream",
     "text": [
      "total data shape: (690, 14)\n",
      "train data shape: (552, 14)\n",
      "validation data shape: (138, 14)\n"
     ]
    }
   ],
   "source": [
    "# 划分训练集和验证集\n",
    "xtrain,xtest,ytrain,ytest = train_test_split(\n",
    "        x,y,test_size = 0.2, random_state = 0)\n",
    "print('total data shape:',x.shape)\n",
    "print('train data shape:', xtrain.shape)\n",
    "print('validation data shape:', xtest.shape)"
   ]
  },
  {
   "cell_type": "code",
   "execution_count": 4,
   "metadata": {
    "collapsed": true
   },
   "outputs": [],
   "source": [
    "class classification(object):\n",
    "    def operate(model,x,y):\n",
    "        # 初始化学习率，权重，\n",
    "        rate = 0.01 \n",
    "        iters = 500\n",
    "        w = np.random.randn(xtrain.shape[1])\n",
    "        b = np.random.randn()\n",
    "        #print('weight matrix shape:', w.shape)\n",
    "        model.losses = []\n",
    "        for i in range(iters):\n",
    "            hinge = 1 - y * ( x*w+b )\n",
    "            hinge[hinge < 0] = 0\n",
    "            loss = np.sum(hinge) + rate * np.linalg.norm(w) / 2\n",
    "            model.losses.append(loss)       \n",
    "        # 更新参数\n",
    "        # wj += rate * ytrain * xtrain\n",
    "            for j in range(xtrain.shape[0]):\n",
    "                if ytrain[j] * (xtrain[j]*w + b) < 1:\n",
    "                    w += (rate * ytrain[j] * xtrain[j]).toarray()[0]\n",
    "                    b += rate * ytrain[j]                \n",
    "        return model\n"
   ]
  },
  {
   "cell_type": "code",
   "execution_count": 5,
   "metadata": {
    "collapsed": false
   },
   "outputs": [
    {
     "data": {
      "image/png": "[encoded data removed]",
      "text/plain": [
       "<matplotlib.figure.Figure at 0x106b3d550>"
      ]
     },
     "metadata": {},
     "output_type": "display_data"
    }
   ],
   "source": [
    "model = classification()\n",
    "\n",
    "# 可视化\n",
    "plt.figure()\n",
    "plt.title('rate = 0.01')\n",
    "plt.xlabel(\"Itering times\")\n",
    "plt.ylabel(\"Loss\")\n",
    "\n",
    "# 训练集\n",
    "modeltrain = model.operate(xtrain, ytrain)\n",
    "plt.plot(range(len(modeltrain.losses)), modeltrain.losses, label = 'train set')\n",
    "# 测试集\n",
    "modeltest = model.operate(xtest, ytest)\n",
    "plt.plot(range(len(modeltest.losses)), modeltest.losses, label = 'validation set')\n",
    "\n",
    "plt.legend()\n",
    "plt.show()"
   ]
  },
  {
   "cell_type": "code",
   "execution_count": null,
   "metadata": {
    "collapsed": true
   },
   "outputs": [],
   "source": []
  }
 ],
 "metadata": {
  "kernelspec": {
   "display_name": "Python [default]",
   "language": "python",
   "name": "python3"
  },
  "language_info": {
   "codemirror_mode": {
    "name": "ipython",
    "version": 3
   },
   "file_extension": ".py",
   "mimetype": "text/x-python",
   "name": "python",
   "nbconvert_exporter": "python",
   "pygments_lexer": "ipython3",
   "version": "3.5.2"
  }
 },
 "nbformat": 4,
 "nbformat_minor": 1
}
